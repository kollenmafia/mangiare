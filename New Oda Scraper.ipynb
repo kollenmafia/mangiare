{
 "cells": [
  {
   "cell_type": "code",
   "execution_count": 1,
   "id": "c237b658",
   "metadata": {},
   "outputs": [],
   "source": [
    "import requests\n",
    "from bs4 import BeautifulSoup\n",
    "import pandas as pd\n"
   ]
  },
  {
   "cell_type": "code",
   "execution_count": 40,
   "id": "eeaf4227",
   "metadata": {},
   "outputs": [],
   "source": [
    "URL = \"https://oda.com/no/categories/67-snacks-godteri-og-kjeks/68-chips-og-snacks/1205-chips/\"\n",
    "page = requests.get(URL)\n",
    "soup = BeautifulSoup(page.content, \"html.parser\")\n",
    "\n",
    "results = soup.find(id = \"content\")\n",
    "item_elements = results.find_all(\"div\", class_ = \"product-list-item\")\n",
    "\n",
    "\n",
    "for item in item_elements:\n",
    "    item_name = item.find(\"div\", class_ = \"name-main wrap-two-lines\")\n",
    "    item_desc = item.find(\"div\", class_ = \"name-extra wrap-one-line\")\n",
    "    item_price = item.find(\"p\", class_ = \"price label label-price\").text\n",
    "    item_unitprice = item.find(\"p\", class_ = \"unit-price\").text\n",
    "    print(item_name.text)\n",
    "    print(item_desc.text.strip())\n",
    "    print(item_price.strip())\n",
    "    print(item_unitprice.strip())"
   ]
  },
  {
   "cell_type": "code",
   "execution_count": 39,
   "id": "39737c54",
   "metadata": {},
   "outputs": [],
   "source": []
  }
 ],
 "metadata": {
  "kernelspec": {
   "display_name": "Python 3 (ipykernel)",
   "language": "python",
   "name": "python3"
  },
  "language_info": {
   "codemirror_mode": {
    "name": "ipython",
    "version": 3
   },
   "file_extension": ".py",
   "mimetype": "text/x-python",
   "name": "python",
   "nbconvert_exporter": "python",
   "pygments_lexer": "ipython3",
   "version": "3.9.12"
  }
 },
 "nbformat": 4,
 "nbformat_minor": 5
}
