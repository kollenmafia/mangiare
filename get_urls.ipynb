{
 "cells": [
  {
   "cell_type": "code",
   "execution_count": 2,
   "id": "650d6ca9",
   "metadata": {},
   "outputs": [],
   "source": [
    "import requests\n",
    "from bs4 import BeautifulSoup\n",
    "import pandas as pd"
   ]
  },
  {
   "cell_type": "code",
   "execution_count": 26,
   "id": "aa74c8dc",
   "metadata": {},
   "outputs": [],
   "source": [
    "URL = \"https://oda.com/no/products/popular/\"\n",
    "page = requests.get(URL)\n",
    "soup = BeautifulSoup(page.content, \"html.parser\")\n",
    "part = soup.find(id = \"content\")\n",
    "\n",
    "url_elements = results.find_all(\"ul\", class_ = \"c-categories__link-list__content\")\n",
    "\n",
    "category = []\n",
    "url = []\n",
    "\n",
    "for i in url_elements:\n",
    "    category1 = item.find(\"div\", class_ = \"c-categories__link-list__item__info\")\n",
    "    #url1 = item.find(\"div\", class_ = \"name-main wrap-two-lines\")\n",
    "    print(category1)\n",
    "\n",
    "    \n",
    "    \n"
   ]
  },
  {
   "cell_type": "code",
   "execution_count": null,
   "id": "459bc778",
   "metadata": {},
   "outputs": [],
   "source": []
  }
 ],
 "metadata": {
  "kernelspec": {
   "display_name": "Python 3 (ipykernel)",
   "language": "python",
   "name": "python3"
  },
  "language_info": {
   "codemirror_mode": {
    "name": "ipython",
    "version": 3
   },
   "file_extension": ".py",
   "mimetype": "text/x-python",
   "name": "python",
   "nbconvert_exporter": "python",
   "pygments_lexer": "ipython3",
   "version": "3.9.12"
  }
 },
 "nbformat": 4,
 "nbformat_minor": 5
}
