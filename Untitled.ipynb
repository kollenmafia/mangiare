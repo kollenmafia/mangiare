{
 "cells": [
  {
   "cell_type": "code",
   "execution_count": 38,
   "id": "0fbf9e68",
   "metadata": {},
   "outputs": [],
   "source": [
    "import requests\n",
    "from bs4 import BeautifulSoup\n",
    "import pandas as pd"
   ]
  },
  {
   "cell_type": "code",
   "execution_count": 39,
   "id": "de4dd547",
   "metadata": {},
   "outputs": [],
   "source": [
    "item_name1 = []\n",
    "item_desc1 = []\n",
    "item_price1 = []\n",
    "item_unitprice1 = []"
   ]
  },
  {
   "cell_type": "code",
   "execution_count": 58,
   "id": "8b9f2129",
   "metadata": {},
   "outputs": [],
   "source": [
    "del item_name1[:]\n",
    "del item_desc1[:]\n",
    "del item_price1[:]\n",
    "del item_unitprice1[:]"
   ]
  },
  {
   "cell_type": "code",
   "execution_count": 55,
   "id": "c8cfdf3e",
   "metadata": {},
   "outputs": [],
   "source": [
    "URL = \"https://oda.com/no/categories/20-frukt-og-gront/21-frukt/513-epler-og-paerer/\"\n",
    "\n",
    "page = requests.get(link)\n",
    "soup = BeautifulSoup(page.content, \"html.parser\")\n",
    "results = soup.find(id = \"content\")\n",
    "item_elements = results.find_all(\"div\", class_ = \"product-list-item\")\n",
    "for item in item_elements:\n",
    "    item_name = item.find(\"div\", class_ = \"name-main wrap-two-lines\")\n",
    "    item_desc = item.find(\"div\", class_ = \"name-extra wrap-one-line\")\n",
    "    #item_price = item.find(class_ = \"price label label-price\").text\n",
    "    #item_unitprice = item.find(class_ = \"unit-price\").text\n",
    "    item_name1.append(item_name.text.strip())\n",
    "    item_desc1.append(item_desc.text.strip())\n",
    "    #item_price1.append(item_price.strip())\n",
    "    #item_unitprice1.append(item_unitprice.strip())\n"
   ]
  },
  {
   "cell_type": "code",
   "execution_count": 64,
   "id": "1d203ae9",
   "metadata": {},
   "outputs": [
    {
     "ename": "AttributeError",
     "evalue": "'NoneType' object has no attribute 'text'",
     "output_type": "error",
     "traceback": [
      "\u001b[1;31m---------------------------------------------------------------------------\u001b[0m",
      "\u001b[1;31mAttributeError\u001b[0m                            Traceback (most recent call last)",
      "Input \u001b[1;32mIn [64]\u001b[0m, in \u001b[0;36m<cell line: 6>\u001b[1;34m()\u001b[0m\n\u001b[0;32m      7\u001b[0m item_name \u001b[38;5;241m=\u001b[39m item\u001b[38;5;241m.\u001b[39mfind(\u001b[38;5;124m\"\u001b[39m\u001b[38;5;124mdiv\u001b[39m\u001b[38;5;124m\"\u001b[39m, class_ \u001b[38;5;241m=\u001b[39m \u001b[38;5;124m\"\u001b[39m\u001b[38;5;124mname-main wrap-two-lines\u001b[39m\u001b[38;5;124m\"\u001b[39m)\n\u001b[0;32m      8\u001b[0m item_desc \u001b[38;5;241m=\u001b[39m item\u001b[38;5;241m.\u001b[39mfind(\u001b[38;5;124m\"\u001b[39m\u001b[38;5;124mdiv\u001b[39m\u001b[38;5;124m\"\u001b[39m, class_ \u001b[38;5;241m=\u001b[39m \u001b[38;5;124m\"\u001b[39m\u001b[38;5;124mname-extra wrap-one-line\u001b[39m\u001b[38;5;124m\"\u001b[39m)\n\u001b[1;32m----> 9\u001b[0m item_price \u001b[38;5;241m=\u001b[39m \u001b[43mitem\u001b[49m\u001b[38;5;241;43m.\u001b[39;49m\u001b[43mfind\u001b[49m\u001b[43m(\u001b[49m\u001b[43mclass_\u001b[49m\u001b[43m \u001b[49m\u001b[38;5;241;43m=\u001b[39;49m\u001b[43m \u001b[49m\u001b[38;5;124;43m\"\u001b[39;49m\u001b[38;5;124;43mprice label label-price\u001b[39;49m\u001b[38;5;124;43m\"\u001b[39;49m\u001b[43m)\u001b[49m\u001b[38;5;241;43m.\u001b[39;49m\u001b[43mtext\u001b[49m\n\u001b[0;32m     10\u001b[0m item_unitprice \u001b[38;5;241m=\u001b[39m item\u001b[38;5;241m.\u001b[39mfind(class_ \u001b[38;5;241m=\u001b[39m \u001b[38;5;124m\"\u001b[39m\u001b[38;5;124munit-price\u001b[39m\u001b[38;5;124m\"\u001b[39m)\u001b[38;5;241m.\u001b[39mtext\n\u001b[0;32m     11\u001b[0m item_name1\u001b[38;5;241m.\u001b[39mappend(item_name\u001b[38;5;241m.\u001b[39mtext\u001b[38;5;241m.\u001b[39mstrip())\n",
      "\u001b[1;31mAttributeError\u001b[0m: 'NoneType' object has no attribute 'text'"
     ]
    }
   ],
   "source": [
    "URL = \"https://oda.com/no/categories/20-frukt-og-gront/21-frukt/513-epler-og-paerer/\"\n",
    "page = requests.get(link)\n",
    "soup = BeautifulSoup(page.content, \"html.parser\")\n",
    "results = soup.find(id = \"content\")\n",
    "item_elements = results.find_all(\"div\", class_ = \"product-list-item\")\n",
    "for item in item_elements:\n",
    "    item_name = item.find(\"div\", class_ = \"name-main wrap-two-lines\")\n",
    "    item_desc = item.find(\"div\", class_ = \"name-extra wrap-one-line\")\n",
    "    item_price = item.find(class_ = \"price label label-price\").text\n",
    "    item_unitprice = item.find(class_ = \"unit-price\").text\n",
    "    item_name1.append(item_name.text.strip())\n",
    "    item_desc1.append(item_desc.text.strip())\n",
    "    item_price1.append(item_price.strip())\n",
    "    item_unitprice1.append(item_unitprice.strip())\n"
   ]
  },
  {
   "cell_type": "code",
   "execution_count": null,
   "id": "3b8cfc44",
   "metadata": {},
   "outputs": [],
   "source": []
  },
  {
   "cell_type": "code",
   "execution_count": null,
   "id": "07c62b41",
   "metadata": {},
   "outputs": [],
   "source": []
  },
  {
   "cell_type": "code",
   "execution_count": null,
   "id": "6b619139",
   "metadata": {},
   "outputs": [],
   "source": []
  },
  {
   "cell_type": "code",
   "execution_count": null,
   "id": "465d45fc",
   "metadata": {},
   "outputs": [],
   "source": []
  },
  {
   "cell_type": "code",
   "execution_count": 59,
   "id": "4b926fbb",
   "metadata": {},
   "outputs": [],
   "source": [
    "df = pd.DataFrame(list(zip(item_name1, item_desc1, item_price1, item_unitprice1)), columns = ['Name', 'Description', 'Price', 'Price/kg'])"
   ]
  },
  {
   "cell_type": "code",
   "execution_count": 60,
   "id": "b38eb9dd",
   "metadata": {},
   "outputs": [
    {
     "data": {
      "text/html": [
       "<div>\n",
       "<style scoped>\n",
       "    .dataframe tbody tr th:only-of-type {\n",
       "        vertical-align: middle;\n",
       "    }\n",
       "\n",
       "    .dataframe tbody tr th {\n",
       "        vertical-align: top;\n",
       "    }\n",
       "\n",
       "    .dataframe thead th {\n",
       "        text-align: right;\n",
       "    }\n",
       "</style>\n",
       "<table border=\"1\" class=\"dataframe\">\n",
       "  <thead>\n",
       "    <tr style=\"text-align: right;\">\n",
       "      <th></th>\n",
       "      <th>Name</th>\n",
       "      <th>Description</th>\n",
       "      <th>Price</th>\n",
       "      <th>Price/kg</th>\n",
       "    </tr>\n",
       "  </thead>\n",
       "  <tbody>\n",
       "  </tbody>\n",
       "</table>\n",
       "</div>"
      ],
      "text/plain": [
       "Empty DataFrame\n",
       "Columns: [Name, Description, Price, Price/kg]\n",
       "Index: []"
      ]
     },
     "execution_count": 60,
     "metadata": {},
     "output_type": "execute_result"
    }
   ],
   "source": [
    "df"
   ]
  }
 ],
 "metadata": {
  "kernelspec": {
   "display_name": "Python 3 (ipykernel)",
   "language": "python",
   "name": "python3"
  },
  "language_info": {
   "codemirror_mode": {
    "name": "ipython",
    "version": 3
   },
   "file_extension": ".py",
   "mimetype": "text/x-python",
   "name": "python",
   "nbconvert_exporter": "python",
   "pygments_lexer": "ipython3",
   "version": "3.9.12"
  }
 },
 "nbformat": 4,
 "nbformat_minor": 5
}
